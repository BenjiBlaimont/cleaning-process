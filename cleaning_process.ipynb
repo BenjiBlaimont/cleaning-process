{
 "cells": [
  {
   "cell_type": "markdown",
   "metadata": {},
   "source": [
    "# Cleaning Process"
   ]
  },
  {
   "cell_type": "code",
   "execution_count": 90,
   "metadata": {},
   "outputs": [
    {
     "data": {
      "text/html": [
       "<div>\n",
       "<style scoped>\n",
       "    .dataframe tbody tr th:only-of-type {\n",
       "        vertical-align: middle;\n",
       "    }\n",
       "\n",
       "    .dataframe tbody tr th {\n",
       "        vertical-align: top;\n",
       "    }\n",
       "\n",
       "    .dataframe thead th {\n",
       "        text-align: right;\n",
       "    }\n",
       "</style>\n",
       "<table border=\"1\" class=\"dataframe\">\n",
       "  <thead>\n",
       "    <tr style=\"text-align: right;\">\n",
       "      <th></th>\n",
       "      <th>Supply Products Catalog Product Name</th>\n",
       "      <th>availability_status</th>\n",
       "      <th>found_rate</th>\n",
       "      <th>found</th>\n",
       "      <th>ordered</th>\n",
       "    </tr>\n",
       "  </thead>\n",
       "  <tbody>\n",
       "    <tr>\n",
       "      <th>count</th>\n",
       "      <td>69301</td>\n",
       "      <td>69301</td>\n",
       "      <td>15658</td>\n",
       "      <td>15658</td>\n",
       "      <td>15658</td>\n",
       "    </tr>\n",
       "    <tr>\n",
       "      <th>unique</th>\n",
       "      <td>13187</td>\n",
       "      <td>2</td>\n",
       "      <td>182</td>\n",
       "      <td>108</td>\n",
       "      <td>109</td>\n",
       "    </tr>\n",
       "    <tr>\n",
       "      <th>top</th>\n",
       "      <td>Cerveza</td>\n",
       "      <td>AVAILABLE</td>\n",
       "      <td>100.00%</td>\n",
       "      <td>1</td>\n",
       "      <td>1</td>\n",
       "    </tr>\n",
       "    <tr>\n",
       "      <th>freq</th>\n",
       "      <td>193</td>\n",
       "      <td>68662</td>\n",
       "      <td>8626</td>\n",
       "      <td>6149</td>\n",
       "      <td>9075</td>\n",
       "    </tr>\n",
       "  </tbody>\n",
       "</table>\n",
       "</div>"
      ],
      "text/plain": [
       "       Supply Products Catalog Product Name availability_status found_rate  \\\n",
       "count                                 69301               69301      15658   \n",
       "unique                                13187                   2        182   \n",
       "top                                 Cerveza           AVAILABLE    100.00%   \n",
       "freq                                    193               68662       8626   \n",
       "\n",
       "        found ordered  \n",
       "count   15658   15658  \n",
       "unique    108     109  \n",
       "top         1       1  \n",
       "freq     6149    9075  "
      ]
     },
     "execution_count": 90,
     "metadata": {},
     "output_type": "execute_result"
    }
   ],
   "source": [
    "import pandas as pd\n",
    "from datetime import datetime\n",
    "\n",
    "foundRateFile   =   \"FILES/FR_TEST.csv\"\n",
    "stopSendFile    =   \"FILES/SS_TEST.csv\"\n",
    "\n",
    "# FOUND RATE DATAFRAME CREATE\n",
    "\n",
    "frDf    =   pd.read_csv(foundRateFile, low_memory= False)\n",
    "frDf    =   pd.DataFrame(frDf)\n",
    "\n",
    "# STOP SEND DATAGRAME CREATE\n",
    "\n",
    "ssDf    =   pd.read_csv(stopSendFile, low_memory= False)\n",
    "ssDf    =   pd.DataFrame(ssDf)\n",
    "\n",
    "\n",
    "df3 = pd.merge(ssDf,frDf[['productbranch_id','found_rate','found','ordered']],how='left')\n",
    "\n",
    "df3 = df3[(df3.availability_status.isin([\"AVAILABLE\",\"FREQUENTLY_OUT_OF_STOCK\"]))]\n",
    "\n",
    "r1 = df3.copy()\n",
    "\n",
    "r1['last_visited_date'] = pd.to_datetime(r1.last_visited_date)\n",
    "\n",
    "r1.set_index('last_visited_date', inplace=True)\n",
    "\n",
    "r1.truncate(before='2021-12-03', after='2022-01-03').describe(include=object)\n",
    "\n",
    "\n",
    "\n",
    "\n",
    "\n",
    "\n",
    "\n"
   ]
  }
 ],
 "metadata": {
  "interpreter": {
   "hash": "b0fa6594d8f4cbf19f97940f81e996739fb7646882a419484c72d19e05852a7e"
  },
  "kernelspec": {
   "display_name": "Python 3.9.9 64-bit",
   "language": "python",
   "name": "python3"
  },
  "language_info": {
   "codemirror_mode": {
    "name": "ipython",
    "version": 3
   },
   "file_extension": ".py",
   "mimetype": "text/x-python",
   "name": "python",
   "nbconvert_exporter": "python",
   "pygments_lexer": "ipython3",
   "version": "3.9.9"
  },
  "orig_nbformat": 4
 },
 "nbformat": 4,
 "nbformat_minor": 2
}
